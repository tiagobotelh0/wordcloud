{
 "cells": [
  {
   "cell_type": "code",
   "execution_count": 1,
   "metadata": {},
   "outputs": [
    {
     "data": {
      "text/plain": [
       "<wordcloud.wordcloud.WordCloud at 0x7f1502b43490>"
      ]
     },
     "execution_count": 1,
     "metadata": {},
     "output_type": "execute_result"
    }
   ],
   "source": [
    "from PIL import Image\n",
    "from wordcloud import WordCloud\n",
    "\n",
    "import numpy as np\n",
    "import matplotlib.pyplot as plt\n",
    "\n",
    "text = 'There is a growing empirical literature documenting that quality in early education and parental care are associated with better emotional and cognitive development later in life. With this in mind, governments in several countries have changed labor laws in order to give more employment security for parents of the newborns aiming to give financial and legal support (employment protection). A law recently passed in Brazil has increased paternity leave from 5 to 20 working days of paid leave (Marco da Primeira Infância, Law 13.257/2016). Little is known, however, about the economic impacts of such a law. This paper aims at quantifying the costs of such increase in paternity leave. By utilizing the annual household survey microdata (Pesquisa Nacional por Amostra de Domicílios), some labor market indicators and a population projections series it is calculated fathers’ probability of claiming paternity benefits. Several long-range forecasts about the costs implementation produced. The results indicates that the increase in paid paternity leave, due to this change in the law, has relatively low cost – around 100 million Brazilian reais per year in the most likely scenario, an amount that is 0.01% of federal revenues in 2014. While the benefits of increasing paid paternity leave are still unknown in Brazil, the results suggest that this kind of intervention is likely to be cost-effective. Keywords: Paternity leave. Early childhood. Costs.'\n",
    "\n",
    "s_mask = np.array(Image.open('/home/tiago/Downloads/1601716752033.png'))\n",
    "\n",
    "wc = WordCloud(background_color='white',\n",
    "              max_words=50,\n",
    "              mask=s_mask,\n",
    "              contour_width=3,\n",
    "              contour_color='steelblue')\n",
    "\n",
    "wc.generate(text)\n",
    "\n",
    "wc.to_file('cloud.png')"
   ]
  }
 ],
 "metadata": {
  "kernelspec": {
   "display_name": "Python 3",
   "language": "python",
   "name": "python3"
  },
  "language_info": {
   "codemirror_mode": {
    "name": "ipython",
    "version": 3
   },
   "file_extension": ".py",
   "mimetype": "text/x-python",
   "name": "python",
   "nbconvert_exporter": "python",
   "pygments_lexer": "ipython3",
   "version": "3.8.5"
  }
 },
 "nbformat": 4,
 "nbformat_minor": 4
}
